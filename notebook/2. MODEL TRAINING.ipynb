{
 "cells": [
  {
   "cell_type": "markdown",
   "id": "8f61e354",
   "metadata": {},
   "source": [
    "## Model Training"
   ]
  },
  {
   "cell_type": "markdown",
   "id": "e7899409",
   "metadata": {},
   "source": [
    "### Import Data and Required Packages"
   ]
  },
  {
   "cell_type": "markdown",
   "id": "7a98811d",
   "metadata": {},
   "source": [
    "#### Importing Pandas, Numpy, Matplotlib, Seaborn, Sci-kit Learn, and Warnings Library"
   ]
  },
  {
   "cell_type": "code",
   "execution_count": 1,
   "id": "dedde9b7",
   "metadata": {},
   "outputs": [],
   "source": [
    "import numpy as np\n",
    "import pandas as pd\n",
    "import matplotlib.pyplot as plt \n",
    "import seaborn as sns\n",
    "# Modelling\n",
    "from sklearn.neighbors import KNeighborsClassifier\n",
    "from sklearn.tree import DecisionTreeClassifier\n",
    "from sklearn.ensemble import RandomForestClassifier,AdaBoostClassifier\n",
    "from sklearn.svm import SVC\n",
    "from sklearn.linear_model import LogisticRegression\n",
    "from sklearn.metrics import accuracy_score,precision_score,recall_score,f1_score,confusion_matrix\n",
    "import warnings"
   ]
  },
  {
   "cell_type": "markdown",
   "id": "866980ed",
   "metadata": {},
   "source": [
    "#### Import CSV Data as Pandas DataFrame"
   ]
  },
  {
   "cell_type": "code",
   "execution_count": 2,
   "id": "489e5b02",
   "metadata": {},
   "outputs": [],
   "source": [
    "df = pd.read_csv('data/manufacturing_defect_dataset.csv')"
   ]
  },
  {
   "cell_type": "markdown",
   "id": "f4834cac",
   "metadata": {},
   "source": [
    "#### Show Top 5 Records"
   ]
  },
  {
   "cell_type": "code",
   "execution_count": 3,
   "id": "135debf8",
   "metadata": {},
   "outputs": [
    {
     "data": {
      "text/html": [
       "<div>\n",
       "<style scoped>\n",
       "    .dataframe tbody tr th:only-of-type {\n",
       "        vertical-align: middle;\n",
       "    }\n",
       "\n",
       "    .dataframe tbody tr th {\n",
       "        vertical-align: top;\n",
       "    }\n",
       "\n",
       "    .dataframe thead th {\n",
       "        text-align: right;\n",
       "    }\n",
       "</style>\n",
       "<table border=\"1\" class=\"dataframe\">\n",
       "  <thead>\n",
       "    <tr style=\"text-align: right;\">\n",
       "      <th></th>\n",
       "      <th>ProductionVolume</th>\n",
       "      <th>ProductionCost</th>\n",
       "      <th>SupplierQuality</th>\n",
       "      <th>DeliveryDelay</th>\n",
       "      <th>DefectRate</th>\n",
       "      <th>QualityScore</th>\n",
       "      <th>MaintenanceHours</th>\n",
       "      <th>DowntimePercentage</th>\n",
       "      <th>InventoryTurnover</th>\n",
       "      <th>StockoutRate</th>\n",
       "      <th>WorkerProductivity</th>\n",
       "      <th>SafetyIncidents</th>\n",
       "      <th>EnergyConsumption</th>\n",
       "      <th>EnergyEfficiency</th>\n",
       "      <th>AdditiveProcessTime</th>\n",
       "      <th>AdditiveMaterialCost</th>\n",
       "      <th>DefectStatus</th>\n",
       "    </tr>\n",
       "  </thead>\n",
       "  <tbody>\n",
       "    <tr>\n",
       "      <th>0</th>\n",
       "      <td>202</td>\n",
       "      <td>13175.403783</td>\n",
       "      <td>86.648534</td>\n",
       "      <td>1</td>\n",
       "      <td>3.121492</td>\n",
       "      <td>63.463494</td>\n",
       "      <td>9</td>\n",
       "      <td>0.052343</td>\n",
       "      <td>8.630515</td>\n",
       "      <td>0.081322</td>\n",
       "      <td>85.042379</td>\n",
       "      <td>0</td>\n",
       "      <td>2419.616785</td>\n",
       "      <td>0.468947</td>\n",
       "      <td>5.551639</td>\n",
       "      <td>236.439301</td>\n",
       "      <td>1</td>\n",
       "    </tr>\n",
       "    <tr>\n",
       "      <th>1</th>\n",
       "      <td>535</td>\n",
       "      <td>19770.046093</td>\n",
       "      <td>86.310664</td>\n",
       "      <td>4</td>\n",
       "      <td>0.819531</td>\n",
       "      <td>83.697818</td>\n",
       "      <td>20</td>\n",
       "      <td>4.908328</td>\n",
       "      <td>9.296598</td>\n",
       "      <td>0.038486</td>\n",
       "      <td>99.657443</td>\n",
       "      <td>7</td>\n",
       "      <td>3915.566713</td>\n",
       "      <td>0.119485</td>\n",
       "      <td>9.080754</td>\n",
       "      <td>353.957631</td>\n",
       "      <td>1</td>\n",
       "    </tr>\n",
       "    <tr>\n",
       "      <th>2</th>\n",
       "      <td>960</td>\n",
       "      <td>19060.820997</td>\n",
       "      <td>82.132472</td>\n",
       "      <td>0</td>\n",
       "      <td>4.514504</td>\n",
       "      <td>90.350550</td>\n",
       "      <td>1</td>\n",
       "      <td>2.464923</td>\n",
       "      <td>5.097486</td>\n",
       "      <td>0.002887</td>\n",
       "      <td>92.819264</td>\n",
       "      <td>2</td>\n",
       "      <td>3392.385362</td>\n",
       "      <td>0.496392</td>\n",
       "      <td>6.562827</td>\n",
       "      <td>396.189402</td>\n",
       "      <td>1</td>\n",
       "    </tr>\n",
       "    <tr>\n",
       "      <th>3</th>\n",
       "      <td>370</td>\n",
       "      <td>5647.606037</td>\n",
       "      <td>87.335966</td>\n",
       "      <td>5</td>\n",
       "      <td>0.638524</td>\n",
       "      <td>67.628690</td>\n",
       "      <td>8</td>\n",
       "      <td>4.692476</td>\n",
       "      <td>3.577616</td>\n",
       "      <td>0.055331</td>\n",
       "      <td>96.887013</td>\n",
       "      <td>8</td>\n",
       "      <td>4652.400275</td>\n",
       "      <td>0.183125</td>\n",
       "      <td>8.097496</td>\n",
       "      <td>164.135870</td>\n",
       "      <td>1</td>\n",
       "    </tr>\n",
       "    <tr>\n",
       "      <th>4</th>\n",
       "      <td>206</td>\n",
       "      <td>7472.222236</td>\n",
       "      <td>81.989893</td>\n",
       "      <td>3</td>\n",
       "      <td>3.867784</td>\n",
       "      <td>82.728334</td>\n",
       "      <td>9</td>\n",
       "      <td>2.746726</td>\n",
       "      <td>6.851709</td>\n",
       "      <td>0.068047</td>\n",
       "      <td>88.315554</td>\n",
       "      <td>7</td>\n",
       "      <td>1581.630332</td>\n",
       "      <td>0.263507</td>\n",
       "      <td>6.406154</td>\n",
       "      <td>365.708964</td>\n",
       "      <td>1</td>\n",
       "    </tr>\n",
       "  </tbody>\n",
       "</table>\n",
       "</div>"
      ],
      "text/plain": [
       "   ProductionVolume  ProductionCost  SupplierQuality  DeliveryDelay  \\\n",
       "0               202    13175.403783        86.648534              1   \n",
       "1               535    19770.046093        86.310664              4   \n",
       "2               960    19060.820997        82.132472              0   \n",
       "3               370     5647.606037        87.335966              5   \n",
       "4               206     7472.222236        81.989893              3   \n",
       "\n",
       "   DefectRate  QualityScore  MaintenanceHours  DowntimePercentage  \\\n",
       "0    3.121492     63.463494                 9            0.052343   \n",
       "1    0.819531     83.697818                20            4.908328   \n",
       "2    4.514504     90.350550                 1            2.464923   \n",
       "3    0.638524     67.628690                 8            4.692476   \n",
       "4    3.867784     82.728334                 9            2.746726   \n",
       "\n",
       "   InventoryTurnover  StockoutRate  WorkerProductivity  SafetyIncidents  \\\n",
       "0           8.630515      0.081322           85.042379                0   \n",
       "1           9.296598      0.038486           99.657443                7   \n",
       "2           5.097486      0.002887           92.819264                2   \n",
       "3           3.577616      0.055331           96.887013                8   \n",
       "4           6.851709      0.068047           88.315554                7   \n",
       "\n",
       "   EnergyConsumption  EnergyEfficiency  AdditiveProcessTime  \\\n",
       "0        2419.616785          0.468947             5.551639   \n",
       "1        3915.566713          0.119485             9.080754   \n",
       "2        3392.385362          0.496392             6.562827   \n",
       "3        4652.400275          0.183125             8.097496   \n",
       "4        1581.630332          0.263507             6.406154   \n",
       "\n",
       "   AdditiveMaterialCost  DefectStatus  \n",
       "0            236.439301             1  \n",
       "1            353.957631             1  \n",
       "2            396.189402             1  \n",
       "3            164.135870             1  \n",
       "4            365.708964             1  "
      ]
     },
     "execution_count": 3,
     "metadata": {},
     "output_type": "execute_result"
    }
   ],
   "source": [
    "df.head()"
   ]
  },
  {
   "cell_type": "markdown",
   "id": "e5b0db9a",
   "metadata": {},
   "source": [
    "### Data Preparation"
   ]
  },
  {
   "cell_type": "markdown",
   "id": "98fbca92",
   "metadata": {},
   "source": [
    "#### Preparing X and Y variables"
   ]
  },
  {
   "cell_type": "code",
   "execution_count": 4,
   "id": "d296f556",
   "metadata": {},
   "outputs": [],
   "source": [
    "X = df.drop(columns=['DefectStatus'],axis=1)"
   ]
  },
  {
   "cell_type": "code",
   "execution_count": 5,
   "id": "1342ac80",
   "metadata": {},
   "outputs": [],
   "source": [
    "y = df['DefectStatus']"
   ]
  },
  {
   "cell_type": "markdown",
   "id": "5bf8a6f6",
   "metadata": {},
   "source": [
    "#### Scaling and Train Test Split"
   ]
  },
  {
   "cell_type": "code",
   "execution_count": 6,
   "id": "8a602fee",
   "metadata": {},
   "outputs": [],
   "source": [
    "from sklearn.model_selection import train_test_split\n",
    "from sklearn.preprocessing import StandardScaler\n",
    "\n",
    "X_train, X_test, y_train, y_test = train_test_split(X, y, test_size=0.3, random_state=42)\n",
    "\n",
    "scaler = StandardScaler()\n",
    "scaled_X_train = scaler.fit_transform(X_train)\n",
    "scaled_X_test = scaler.transform(X_test)"
   ]
  },
  {
   "cell_type": "markdown",
   "id": "31d29523",
   "metadata": {},
   "source": [
    "#### Create a Function to display all Metrics after Training"
   ]
  },
  {
   "cell_type": "code",
   "execution_count": 7,
   "id": "e45e7bdb",
   "metadata": {},
   "outputs": [],
   "source": [
    "def evaluate_model(true, predicted):\n",
    "    accuracy = accuracy_score(true, predicted)\n",
    "    precision = precision_score(true, predicted)\n",
    "    recall = recall_score(true, predicted)\n",
    "    f1_score_eval = f1_score(true, predicted)\n",
    "    return accuracy, precision, recall, f1_score_eval"
   ]
  },
  {
   "cell_type": "markdown",
   "id": "8fadb487",
   "metadata": {},
   "source": [
    "### Choosing the Best Model"
   ]
  },
  {
   "cell_type": "code",
   "execution_count": 8,
   "id": "f7259411",
   "metadata": {},
   "outputs": [
    {
     "name": "stdout",
     "output_type": "stream",
     "text": [
      "Logistic Regression\n",
      "- Accuracy: 0.8807\n",
      "- Precision: 0.8960\n",
      "- Recall: 0.9721\n",
      "- F1 Score: 0.9325\n",
      "----------------------------------\n",
      "\n",
      "\n",
      "K-Neighbors Classifier\n",
      "- Accuracy: 0.8745\n",
      "- Precision: 0.8971\n",
      "- Recall: 0.9624\n",
      "- F1 Score: 0.9286\n",
      "----------------------------------\n",
      "\n",
      "\n",
      "Decision Tree\n",
      "- Accuracy: 0.9033\n",
      "- Precision: 0.9620\n",
      "- Recall: 0.9223\n",
      "- F1 Score: 0.9418\n",
      "----------------------------------\n",
      "\n",
      "\n",
      "Random Forest Classifier\n",
      "- Accuracy: 0.9588\n",
      "- Precision: 0.9623\n",
      "- Recall: 0.9903\n",
      "- F1 Score: 0.9761\n",
      "----------------------------------\n",
      "\n",
      "\n",
      "AdaBoost Classifier\n",
      "- Accuracy: 0.9136\n",
      "- Precision: 0.9312\n",
      "- Recall: 0.9697\n",
      "- F1 Score: 0.9501\n",
      "----------------------------------\n",
      "\n",
      "\n",
      "Support Vector Classifier\n",
      "- Accuracy: 0.8920\n",
      "- Precision: 0.9053\n",
      "- Recall: 0.9745\n",
      "- F1 Score: 0.9386\n",
      "----------------------------------\n",
      "\n",
      "\n"
     ]
    }
   ],
   "source": [
    "models = {\n",
    "    \"Logistic Regression\": LogisticRegression(),\n",
    "    \"K-Neighbors Classifier\": KNeighborsClassifier(),\n",
    "    \"Decision Tree\": DecisionTreeClassifier(),\n",
    "    \"Random Forest Classifier\": RandomForestClassifier(),\n",
    "    \"AdaBoost Classifier\": AdaBoostClassifier(),\n",
    "    \"Support Vector Classifier\": SVC()\n",
    "}\n",
    "\n",
    "model_list = []\n",
    "f1_list = []\n",
    "\n",
    "for key, value in models.items():\n",
    "    model = value\n",
    "    model.fit(scaled_X_train, y_train)\n",
    "    \n",
    "    #Make predictions\n",
    "    y_test_pred = model.predict(scaled_X_test)\n",
    "    \n",
    "    #Evaluate performance\n",
    "    accuracy, precision, recall, f1_score_eval = evaluate_model(y_test, y_test_pred)\n",
    "    \n",
    "    model_list.append(key)\n",
    "    f1_list.append(f1_score_eval)\n",
    "    \n",
    "    print(key)    \n",
    "    print(\"- Accuracy: {:.4f}\".format(accuracy))\n",
    "    print(\"- Precision: {:.4f}\".format(precision))\n",
    "    print(\"- Recall: {:.4f}\".format(recall))\n",
    "    print(\"- F1 Score: {:.4f}\".format(f1_score_eval))\n",
    "\n",
    "    print('----------------------------------')\n",
    "    print('\\n')"
   ]
  },
  {
   "cell_type": "markdown",
   "id": "ff433fdb",
   "metadata": {},
   "source": [
    "#### Results"
   ]
  },
  {
   "cell_type": "code",
   "execution_count": 9,
   "id": "7ced3188",
   "metadata": {},
   "outputs": [
    {
     "data": {
      "text/html": [
       "<div>\n",
       "<style scoped>\n",
       "    .dataframe tbody tr th:only-of-type {\n",
       "        vertical-align: middle;\n",
       "    }\n",
       "\n",
       "    .dataframe tbody tr th {\n",
       "        vertical-align: top;\n",
       "    }\n",
       "\n",
       "    .dataframe thead th {\n",
       "        text-align: right;\n",
       "    }\n",
       "</style>\n",
       "<table border=\"1\" class=\"dataframe\">\n",
       "  <thead>\n",
       "    <tr style=\"text-align: right;\">\n",
       "      <th></th>\n",
       "      <th>Model Name</th>\n",
       "      <th>F1_Score</th>\n",
       "    </tr>\n",
       "  </thead>\n",
       "  <tbody>\n",
       "    <tr>\n",
       "      <th>3</th>\n",
       "      <td>Random Forest Classifier</td>\n",
       "      <td>0.976077</td>\n",
       "    </tr>\n",
       "    <tr>\n",
       "      <th>4</th>\n",
       "      <td>AdaBoost Classifier</td>\n",
       "      <td>0.950059</td>\n",
       "    </tr>\n",
       "    <tr>\n",
       "      <th>2</th>\n",
       "      <td>Decision Tree</td>\n",
       "      <td>0.941760</td>\n",
       "    </tr>\n",
       "    <tr>\n",
       "      <th>5</th>\n",
       "      <td>Support Vector Classifier</td>\n",
       "      <td>0.938632</td>\n",
       "    </tr>\n",
       "    <tr>\n",
       "      <th>0</th>\n",
       "      <td>Logistic Regression</td>\n",
       "      <td>0.932480</td>\n",
       "    </tr>\n",
       "    <tr>\n",
       "      <th>1</th>\n",
       "      <td>K-Neighbors Classifier</td>\n",
       "      <td>0.928571</td>\n",
       "    </tr>\n",
       "  </tbody>\n",
       "</table>\n",
       "</div>"
      ],
      "text/plain": [
       "                  Model Name  F1_Score\n",
       "3   Random Forest Classifier  0.976077\n",
       "4        AdaBoost Classifier  0.950059\n",
       "2              Decision Tree  0.941760\n",
       "5  Support Vector Classifier  0.938632\n",
       "0        Logistic Regression  0.932480\n",
       "1     K-Neighbors Classifier  0.928571"
      ]
     },
     "execution_count": 9,
     "metadata": {},
     "output_type": "execute_result"
    }
   ],
   "source": [
    "pd.DataFrame(list(zip(model_list, f1_list)), columns=['Model Name', 'F1_Score']).sort_values(by=[\"F1_Score\"],ascending=False)"
   ]
  },
  {
   "cell_type": "markdown",
   "id": "b0b1ead6",
   "metadata": {},
   "source": [
    "### Random Forest Classifier"
   ]
  },
  {
   "cell_type": "code",
   "execution_count": 10,
   "id": "28dd040a",
   "metadata": {},
   "outputs": [
    {
     "name": "stdout",
     "output_type": "stream",
     "text": [
      "F1 Score of the model is 97.61\n"
     ]
    }
   ],
   "source": [
    "rf_model = RandomForestClassifier()\n",
    "rf_model = rf_model.fit(scaled_X_train, y_train)\n",
    "y_pred = rf_model.predict(scaled_X_test)\n",
    "score = f1_score(y_test, y_pred) * 100\n",
    "print(f\"F1 Score of the model is {score:.2f}\")"
   ]
  },
  {
   "cell_type": "markdown",
   "id": "33f58322",
   "metadata": {},
   "source": [
    "#### Confusion Matrix"
   ]
  },
  {
   "cell_type": "code",
   "execution_count": 11,
   "id": "4e30001f",
   "metadata": {},
   "outputs": [
    {
     "data": {
      "text/plain": [
       "array([[116,  32],\n",
       "       [  8, 816]], dtype=int64)"
      ]
     },
     "execution_count": 11,
     "metadata": {},
     "output_type": "execute_result"
    }
   ],
   "source": [
    "cm = confusion_matrix(y_test, y_pred)\n",
    "cm"
   ]
  },
  {
   "cell_type": "markdown",
   "id": "dd8650dc",
   "metadata": {},
   "source": [
    "#### Feature Importance"
   ]
  },
  {
   "cell_type": "code",
   "execution_count": 12,
   "id": "85c1d439",
   "metadata": {},
   "outputs": [
    {
     "data": {
      "text/html": [
       "<div>\n",
       "<style scoped>\n",
       "    .dataframe tbody tr th:only-of-type {\n",
       "        vertical-align: middle;\n",
       "    }\n",
       "\n",
       "    .dataframe tbody tr th {\n",
       "        vertical-align: top;\n",
       "    }\n",
       "\n",
       "    .dataframe thead th {\n",
       "        text-align: right;\n",
       "    }\n",
       "</style>\n",
       "<table border=\"1\" class=\"dataframe\">\n",
       "  <thead>\n",
       "    <tr style=\"text-align: right;\">\n",
       "      <th></th>\n",
       "      <th>Feature</th>\n",
       "      <th>Importance</th>\n",
       "    </tr>\n",
       "  </thead>\n",
       "  <tbody>\n",
       "    <tr>\n",
       "      <th>6</th>\n",
       "      <td>MaintenanceHours</td>\n",
       "      <td>0.221633</td>\n",
       "    </tr>\n",
       "    <tr>\n",
       "      <th>4</th>\n",
       "      <td>DefectRate</td>\n",
       "      <td>0.203265</td>\n",
       "    </tr>\n",
       "    <tr>\n",
       "      <th>5</th>\n",
       "      <td>QualityScore</td>\n",
       "      <td>0.147267</td>\n",
       "    </tr>\n",
       "    <tr>\n",
       "      <th>0</th>\n",
       "      <td>ProductionVolume</td>\n",
       "      <td>0.110913</td>\n",
       "    </tr>\n",
       "    <tr>\n",
       "      <th>15</th>\n",
       "      <td>AdditiveMaterialCost</td>\n",
       "      <td>0.033101</td>\n",
       "    </tr>\n",
       "    <tr>\n",
       "      <th>13</th>\n",
       "      <td>EnergyEfficiency</td>\n",
       "      <td>0.030971</td>\n",
       "    </tr>\n",
       "    <tr>\n",
       "      <th>2</th>\n",
       "      <td>SupplierQuality</td>\n",
       "      <td>0.030649</td>\n",
       "    </tr>\n",
       "    <tr>\n",
       "      <th>7</th>\n",
       "      <td>DowntimePercentage</td>\n",
       "      <td>0.030006</td>\n",
       "    </tr>\n",
       "    <tr>\n",
       "      <th>9</th>\n",
       "      <td>StockoutRate</td>\n",
       "      <td>0.028906</td>\n",
       "    </tr>\n",
       "    <tr>\n",
       "      <th>10</th>\n",
       "      <td>WorkerProductivity</td>\n",
       "      <td>0.028820</td>\n",
       "    </tr>\n",
       "    <tr>\n",
       "      <th>8</th>\n",
       "      <td>InventoryTurnover</td>\n",
       "      <td>0.028407</td>\n",
       "    </tr>\n",
       "    <tr>\n",
       "      <th>12</th>\n",
       "      <td>EnergyConsumption</td>\n",
       "      <td>0.028088</td>\n",
       "    </tr>\n",
       "    <tr>\n",
       "      <th>14</th>\n",
       "      <td>AdditiveProcessTime</td>\n",
       "      <td>0.027691</td>\n",
       "    </tr>\n",
       "    <tr>\n",
       "      <th>1</th>\n",
       "      <td>ProductionCost</td>\n",
       "      <td>0.025825</td>\n",
       "    </tr>\n",
       "    <tr>\n",
       "      <th>11</th>\n",
       "      <td>SafetyIncidents</td>\n",
       "      <td>0.013165</td>\n",
       "    </tr>\n",
       "    <tr>\n",
       "      <th>3</th>\n",
       "      <td>DeliveryDelay</td>\n",
       "      <td>0.011292</td>\n",
       "    </tr>\n",
       "  </tbody>\n",
       "</table>\n",
       "</div>"
      ],
      "text/plain": [
       "                 Feature  Importance\n",
       "6       MaintenanceHours    0.221633\n",
       "4             DefectRate    0.203265\n",
       "5           QualityScore    0.147267\n",
       "0       ProductionVolume    0.110913\n",
       "15  AdditiveMaterialCost    0.033101\n",
       "13      EnergyEfficiency    0.030971\n",
       "2        SupplierQuality    0.030649\n",
       "7     DowntimePercentage    0.030006\n",
       "9           StockoutRate    0.028906\n",
       "10    WorkerProductivity    0.028820\n",
       "8      InventoryTurnover    0.028407\n",
       "12     EnergyConsumption    0.028088\n",
       "14   AdditiveProcessTime    0.027691\n",
       "1         ProductionCost    0.025825\n",
       "11       SafetyIncidents    0.013165\n",
       "3          DeliveryDelay    0.011292"
      ]
     },
     "execution_count": 12,
     "metadata": {},
     "output_type": "execute_result"
    }
   ],
   "source": [
    "df_feature_importances = pd.DataFrame({'Feature': X.columns, 'Importance': rf_model.feature_importances_})\n",
    "df_feature_importances.sort_values(by='Importance', ascending=False)"
   ]
  },
  {
   "cell_type": "markdown",
   "id": "6b611400",
   "metadata": {},
   "source": [
    "## Conclusion\n",
    "- Overall, the model is pretty good. Further improvements can be made by applying under/over sampling or hyper parameter tuning\n",
    "- Confirmed that Defect Rate, Maintenance Hours, Quality Score, and Production Volume are the key features that affect Defect Status"
   ]
  },
  {
   "cell_type": "code",
   "execution_count": null,
   "id": "c68ad371",
   "metadata": {},
   "outputs": [],
   "source": []
  }
 ],
 "metadata": {
  "kernelspec": {
   "display_name": "Python 3 (ipykernel)",
   "language": "python",
   "name": "python3"
  },
  "language_info": {
   "codemirror_mode": {
    "name": "ipython",
    "version": 3
   },
   "file_extension": ".py",
   "mimetype": "text/x-python",
   "name": "python",
   "nbconvert_exporter": "python",
   "pygments_lexer": "ipython3",
   "version": "3.11.4"
  }
 },
 "nbformat": 4,
 "nbformat_minor": 5
}
